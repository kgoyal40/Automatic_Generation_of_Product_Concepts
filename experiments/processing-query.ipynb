{
 "cells": [
  {
   "cell_type": "code",
   "execution_count": null,
   "id": "excess-loading",
   "metadata": {},
   "outputs": [],
   "source": [
    "from src.core import *\n",
    "from src.exps import *\n",
    "from src.io import *\n",
    "import altair as alt\n",
    "from altair_saver import save"
   ]
  },
  {
   "cell_type": "code",
   "execution_count": null,
   "id": "liable-database",
   "metadata": {},
   "outputs": [],
   "source": [
    "all_contexts_names, all_contexts = get_filtered_clusters()"
   ]
  },
  {
   "cell_type": "code",
   "execution_count": null,
   "id": "requested-responsibility",
   "metadata": {},
   "outputs": [],
   "source": [
    "context_overview = pd.read_csv(CONTEXT_NAMES_FP)\n",
    "context_overview = context_overview[context_overview['mc_id'].isin([int(n) for n in all_contexts_names])]\n",
    "context_overview['# songs'] = [len(all_contexts['000000{}'.format(c)]) for c in context_overview['mc_id']]\n",
    "context_overview = context_overview[context_overview['# songs'] >= 100]\n",
    "context_overview.reset_index(inplace=True, drop=True)\n",
    "context_overview['# subcontexts'] = [get_subcontext_count('000000{}'.format(c)) \n",
    "                                     for c in context_overview.mc_id]\n",
    "context_overview"
   ]
  },
  {
   "cell_type": "code",
   "execution_count": null,
   "id": "interesting-professor",
   "metadata": {},
   "outputs": [],
   "source": [
    "with open('results_query_learning_1006.txt','r') as f:\n",
    "    results_with_noise = f.readlines()\n",
    "\n",
    "# with open('results_with_noise_rocchio_1dnf_2505.txt','r') as f:\n",
    "#     results_with_noise = f.readlines()"
   ]
  },
  {
   "cell_type": "code",
   "execution_count": null,
   "id": "lasting-router",
   "metadata": {},
   "outputs": [],
   "source": [
    "results_with_noise = [r[:-1].split(',') for r in results_with_noise]"
   ]
  },
  {
   "cell_type": "code",
   "execution_count": null,
   "id": "objective-unemployment",
   "metadata": {},
   "outputs": [],
   "source": [
    "results_with_noise[101]"
   ]
  },
  {
   "cell_type": "code",
   "execution_count": null,
   "id": "pharmaceutical-straight",
   "metadata": {},
   "outputs": [],
   "source": [
    "results_with_noise_processed = []\n",
    "for r in results_with_noise:\n",
    "    r_processed = [float(r[i]) if i not in [4, 10] else r[i][1:] for i in range(len(r))]\n",
    "    if r_processed[10] == 'songs-query':\n",
    "        r_processed[10] = 'items-query'\n",
    "    results_with_noise_processed.append(r_processed)"
   ]
  },
  {
   "cell_type": "code",
   "execution_count": null,
   "id": "chronic-occupation",
   "metadata": {},
   "outputs": [],
   "source": [
    "results_with_noise_processed = pd.DataFrame(results_with_noise_processed)\n",
    "results_with_noise_processed"
   ]
  },
  {
   "cell_type": "code",
   "execution_count": null,
   "id": "greek-italian",
   "metadata": {
    "scrolled": true
   },
   "outputs": [],
   "source": [
    "results_with_noise_processed = pd.DataFrame(results_with_noise_processed)\n",
    "results_with_noise_processed.columns = ['context id', 'sample size', 'discard threshold', 'noise', 'reliable negative approach', 'rocchio threshold',\n",
    "                                        'exp_num', 'learned_subcontexts', 'max_depth', 'total positives', 'query type', 'predicted songs',\n",
    "                                        'recall', 'precision', 'f1 score']\n",
    "results_with_noise_processed = results_with_noise_processed[results_with_noise_processed['query type'] != 'most-general']\n",
    "results_with_noise_processed = results_with_noise_processed[results_with_noise_processed['rocchio threshold'] == 0]\n",
    "results_with_noise_processed.reset_index(inplace=True, drop=True)\n",
    "results_with_noise_processed.head()"
   ]
  },
  {
   "cell_type": "code",
   "execution_count": null,
   "id": "cooked-improvement",
   "metadata": {},
   "outputs": [],
   "source": [
    "def big_chart(chart, fontsize = 20): \n",
    "    return chart.configure_axis(\n",
    "        grid = True, \n",
    "    labelFontSize = fontsize,\n",
    "    titleFontSize = fontsize\n",
    ").configure_title(\n",
    "    fontSize = fontsize\n",
    "    ).configure_legend(\n",
    "titleFontSize=fontsize,\n",
    "labelFontSize=fontsize\n",
    ").configure_view(\n",
    "    strokeWidth=0\n",
    ")"
   ]
  },
  {
   "cell_type": "code",
   "execution_count": null,
   "id": "shaped-active",
   "metadata": {},
   "outputs": [],
   "source": [
    "def small_chart(chart, fontsize=None): \n",
    "    return big_chart(chart.properties(width=150,\n",
    "                             height=150\n",
    "                            ), fontsize)"
   ]
  },
  {
   "cell_type": "code",
   "execution_count": null,
   "id": "contemporary-meter",
   "metadata": {
    "scrolled": true
   },
   "outputs": [],
   "source": [
    "PLOT_DIR = str(Path().absolute() / 'plots-query-learning')\n",
    "alt.data_transformers.enable('default', max_rows=None)\n",
    "\n",
    "for threshold in [0, 0.1, 0.2]:\n",
    "    for noise_ratio in [0, 0.1, 0.2]:\n",
    "        data = results_with_noise_processed[(results_with_noise_processed['discard threshold'] == threshold) &\n",
    "                                         (results_with_noise_processed['noise'] == noise_ratio)]\n",
    "        \n",
    "        data_d = data[data['query type'] == 'dt-query']\n",
    "        \n",
    "        chart_precision = alt.Chart(data_d, title = '').mark_line().encode(\n",
    "                                    x='sample size',\n",
    "                                    y=alt.Y('mean(precision)', title='precision'),\n",
    "                                    color=alt.Color('reliable negative approach', scale=alt.Scale(scheme='tableau10'), title = 'Rel. Neg.')\n",
    "                                )\n",
    "\n",
    "        save(small_chart(chart_precision, fontsize=20), '{}/precision_query_{}_discard_{}_noise_{}.png'.format(PLOT_DIR, 'dt', threshold, noise_ratio), scale_factor=2.0)\n",
    "        \n",
    "        chart_recall = alt.Chart(data_d, title = '').mark_line().encode(\n",
    "                                            x='sample size',\n",
    "                                            y=alt.Y('mean(recall)', title='Recall'),\n",
    "                                            color=alt.Color('reliable negative approach', scale=alt.Scale(scheme='tableau10'), title = 'Rel. Neg.')\n",
    "                                        )\n",
    "        \n",
    "        save(small_chart(chart_recall, fontsize=20), '{}/recall_query_{}_discard_{}_noise_{}.png'.format(PLOT_DIR, 'dt', threshold, noise_ratio), scale_factor=2.0)\n",
    "\n",
    "\n",
    "        chart_f1 = alt.Chart(data_d, title = '').mark_line().encode(\n",
    "                                            x='sample size',\n",
    "                                            y=alt.Y('mean(f1 score)', title='f1-score'),\n",
    "                                            color=alt.Color('reliable negative approach', scale=alt.Scale(scheme='tableau10'), title = 'Rel. Neg.')\n",
    "                                        )\n",
    "        \n",
    "        save(small_chart(chart_f1, fontsize=20), '{}/f1_query_{}_discard_{}_noise_{}.png'.format(PLOT_DIR, 'dt', threshold, noise_ratio), scale_factor=2.0)\n",
    "        \n",
    "        \n",
    "        data_s = data[data['query type'] == 'items-query']\n",
    "        \n",
    "        chart_precision = alt.Chart(data_s, title = '').mark_line().encode(\n",
    "                                    x='sample size',\n",
    "                                    y=alt.Y('mean(precision)', title='precision'),\n",
    "                                    color=alt.Color('reliable negative approach', scale=alt.Scale(scheme='tableau10'), title = 'Rel. Neg.')\n",
    "                                )\n",
    "        \n",
    "        save(small_chart(chart_precision, fontsize=20), '{}/precision_query_{}_discard_{}_noise_{}.png'.format(PLOT_DIR, 'songs', threshold, noise_ratio), scale_factor=2.0)\n",
    "\n",
    "        chart_recall = alt.Chart(data_s, title = '').mark_line().encode(\n",
    "                                            x='sample size',\n",
    "                                            y=alt.Y('mean(recall)', title='Recall'),\n",
    "                                            color=alt.Color('reliable negative approach', scale=alt.Scale(scheme='tableau10'), title = 'Rel. Neg.')\n",
    "                                        )\n",
    "        \n",
    "        save(small_chart(chart_recall, fontsize=20), '{}/recall_query_{}_discard_{}_noise_{}.png'.format(PLOT_DIR, 'songs', threshold, noise_ratio), scale_factor=2.0)\n",
    "\n",
    "\n",
    "        chart_f1 = alt.Chart(data_s, title = '').mark_line().encode(\n",
    "                                            x='sample size',\n",
    "                                            y=alt.Y('mean(f1 score)', title='f1-score'),\n",
    "                                            color=alt.Color('reliable negative approach', scale=alt.Scale(scheme='tableau10'), title = 'Rel. Neg.')\n",
    "                                        )\n",
    "        \n",
    "        save(small_chart(chart_f1, fontsize=20), '{}/f1_query_{}_discard_{}_noise_{}.png'.format(PLOT_DIR, 'songs', threshold, noise_ratio), scale_factor=2.0)\n"
   ]
  },
  {
   "cell_type": "code",
   "execution_count": null,
   "id": "cellular-abortion",
   "metadata": {},
   "outputs": [],
   "source": [
    "data = results_with_noise_processed[(results_with_noise_processed['discard threshold'] == 0) &\n",
    "                                         (results_with_noise_processed['noise'] == 0)]\n",
    "        \n",
    "chart_depth = alt.Chart(data, title = '').mark_line().encode(\n",
    "                                    x='sample size',\n",
    "                                    y=alt.Y('mean(max_depth)', title='max depth'),\n",
    "                                    color=alt.Color('reliable negative approach', scale=alt.Scale(scheme='tableau10'), title = 'Rel. Neg.')\n",
    "                                )\n",
    "small_chart(chart_depth, fontsize=20)         "
   ]
  },
  {
   "cell_type": "code",
   "execution_count": null,
   "id": "descending-unemployment",
   "metadata": {},
   "outputs": [],
   "source": [
    "data = results_with_noise_processed[(results_with_noise_processed['discard threshold'] == 0) &\n",
    "                                         (results_with_noise_processed['noise'] == 0)]\n",
    "        \n",
    "chart_precision = alt.Chart(data, title = '').mark_line().encode(\n",
    "                                    x='sample size',\n",
    "                                    y=alt.Y('mean(precision)', title='precision'),\n",
    "                                    color=alt.Color('query type', scale=alt.Scale(scheme='tableau10'), title = 'query type')\n",
    "                                )\n",
    "small_chart(chart_precision, fontsize=20)         "
   ]
  },
  {
   "cell_type": "code",
   "execution_count": null,
   "id": "occasional-dispute",
   "metadata": {},
   "outputs": [],
   "source": [
    "data = results_with_noise_processed[(results_with_noise_processed['discard threshold'] == 0) &\n",
    "                                         (results_with_noise_processed['noise'] == 0)]\n",
    "        \n",
    "chart_recall = alt.Chart(data, title = '').mark_line().encode(\n",
    "                                    x='sample size',\n",
    "                                    y=alt.Y('mean(recall)', title='recall'),\n",
    "                                    color=alt.Color('query type', scale=alt.Scale(scheme='tableau10'), title = 'query type')\n",
    "                                )\n",
    "small_chart(chart_recall, fontsize=20)   "
   ]
  }
 ],
 "metadata": {
  "kernelspec": {
   "display_name": "Python 3",
   "language": "python",
   "name": "python3"
  },
  "language_info": {
   "codemirror_mode": {
    "name": "ipython",
    "version": 3
   },
   "file_extension": ".py",
   "mimetype": "text/x-python",
   "name": "python",
   "nbconvert_exporter": "python",
   "pygments_lexer": "ipython3",
   "version": "3.8.5"
  }
 },
 "nbformat": 4,
 "nbformat_minor": 5
}
